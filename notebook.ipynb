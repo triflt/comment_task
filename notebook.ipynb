{
 "cells": [
  {
   "cell_type": "markdown",
   "id": "c79454e5",
   "metadata": {},
   "source": [
    "# Тестовое задание\n",
    "Информация о данных: https://ai.stanford.edu/~amaas/data/sentiment/\n",
    "\n",
    "Короткое объяснение: требуется обучить модель на задачу классификации комментариев пользователей к фильмам, а также сделать возможным интерпретировать ответ в значения от 1 до 10 (например, звезд).\n",
    "\n",
    "Также, оценки для положительных комментариев находятся в промежутке от 7 до 10, для отрицательных от 1 до 4"
   ]
  },
  {
   "cell_type": "code",
   "execution_count": 2,
   "id": "07fc7aa2",
   "metadata": {},
   "outputs": [],
   "source": [
    "import os\n",
    "import re\n",
    "\n",
    "import numpy as np\n",
    "import pandas as pd\n",
    "import seaborn as sns\n",
    "import pickle\n",
    "\n",
    "from tqdm import tqdm\n",
    "from catboost import CatBoostClassifier, CatBoostRegressor\n",
    "from gensim.corpora import Dictionary\n",
    "from gensim.models import Word2Vec\n",
    "from gensim.utils import tokenize\n",
    "\n",
    "import sklearn\n",
    "import torch\n",
    "import nltk"
   ]
  },
  {
   "cell_type": "markdown",
   "id": "4e277a0a",
   "metadata": {},
   "source": [
    "# Считаем данные"
   ]
  },
  {
   "cell_type": "code",
   "execution_count": 3,
   "id": "ae946ca8",
   "metadata": {},
   "outputs": [],
   "source": [
    "TRAIN_DATA_PATH = 'large-movie-reviews-dataset/acl-imdb-v1/train/'\n",
    "TEST_DATA_PATH = 'large-movie-reviews-dataset/acl-imdb-v1/test/'"
   ]
  },
  {
   "cell_type": "code",
   "execution_count": 4,
   "id": "b50673dc",
   "metadata": {},
   "outputs": [],
   "source": [
    "def get_rating(path):\n",
    "    if path[-5] == '0' and path[-6] == '1':\n",
    "        return 10\n",
    "    else:\n",
    "        return int(path[-5])\n",
    "\n",
    "def get_target(path):\n",
    "    if path[-4:-1] == 'pos':\n",
    "        return 1\n",
    "    else: \n",
    "        return 0"
   ]
  },
  {
   "cell_type": "code",
   "execution_count": 5,
   "id": "6fc62124",
   "metadata": {},
   "outputs": [],
   "source": [
    "def open_txt(path):\n",
    "    comments_names = os.listdir(path)\n",
    "    comments = []\n",
    "    for comment in tqdm(comments_names):\n",
    "        with open(os.path.join(path, comment) , encoding=\"utf8\") as f:\n",
    "            lines = f.readlines()\n",
    "            target = get_target(path)\n",
    "            rating = get_rating(comment)\n",
    "            comments.append([lines[0], target, rating])\n",
    "    return comments"
   ]
  },
  {
   "cell_type": "code",
   "execution_count": 6,
   "id": "13bf7805",
   "metadata": {},
   "outputs": [
    {
     "name": "stderr",
     "output_type": "stream",
     "text": [
      "100%|███████████████████████████████████████████████████████████████████████████████████████████████████████████████████████████████████████████| 12500/12500 [01:43<00:00, 120.88it/s]\n",
      "100%|███████████████████████████████████████████████████████████████████████████████████████████████████████████████████████████████████████████| 12500/12500 [01:31<00:00, 137.00it/s]\n",
      "100%|███████████████████████████████████████████████████████████████████████████████████████████████████████████████████████████████████████████| 12500/12500 [01:26<00:00, 144.39it/s]\n",
      "100%|███████████████████████████████████████████████████████████████████████████████████████████████████████████████████████████████████████████| 12500/12500 [01:26<00:00, 144.09it/s]\n"
     ]
    }
   ],
   "source": [
    "train_pos = open_txt(TRAIN_DATA_PATH + 'pos/')\n",
    "train_neg = open_txt(TRAIN_DATA_PATH + 'neg/')\n",
    "test_pos = open_txt(TEST_DATA_PATH + 'pos/')\n",
    "test_neg = open_txt(TEST_DATA_PATH + 'neg/')"
   ]
  },
  {
   "cell_type": "code",
   "execution_count": 7,
   "id": "aa60730d",
   "metadata": {},
   "outputs": [
    {
     "name": "stdout",
     "output_type": "stream",
     "text": [
      "Размер словаря, данного в этом датасете:  89527\n"
     ]
    }
   ],
   "source": [
    "#словарь\n",
    "with open('large-movie-reviews-dataset/acl-imdb-v1/imdb.vocab', encoding=\"utf8\") as f:\n",
    "        all_words = f.readlines()\n",
    "for i in range(len(all_words)):\n",
    "    all_words[i] = all_words[i][:-1]\n",
    "print(\"Размер словаря, данного в этом датасете: \", len(all_words))"
   ]
  },
  {
   "cell_type": "code",
   "execution_count": 12,
   "id": "021bcfff",
   "metadata": {},
   "outputs": [
    {
     "data": {
      "text/html": [
       "<div>\n",
       "<style scoped>\n",
       "    .dataframe tbody tr th:only-of-type {\n",
       "        vertical-align: middle;\n",
       "    }\n",
       "\n",
       "    .dataframe tbody tr th {\n",
       "        vertical-align: top;\n",
       "    }\n",
       "\n",
       "    .dataframe thead th {\n",
       "        text-align: right;\n",
       "    }\n",
       "</style>\n",
       "<table border=\"1\" class=\"dataframe\">\n",
       "  <thead>\n",
       "    <tr style=\"text-align: right;\">\n",
       "      <th></th>\n",
       "      <th>text</th>\n",
       "      <th>target</th>\n",
       "      <th>rating</th>\n",
       "    </tr>\n",
       "  </thead>\n",
       "  <tbody>\n",
       "    <tr>\n",
       "      <th>0</th>\n",
       "      <td>Bromwell High is a cartoon comedy. It ran at t...</td>\n",
       "      <td>1</td>\n",
       "      <td>9</td>\n",
       "    </tr>\n",
       "    <tr>\n",
       "      <th>1</th>\n",
       "      <td>Homelessness (or Houselessness as George Carli...</td>\n",
       "      <td>1</td>\n",
       "      <td>8</td>\n",
       "    </tr>\n",
       "    <tr>\n",
       "      <th>2</th>\n",
       "      <td>Brilliant over-acting by Lesley Ann Warren. Be...</td>\n",
       "      <td>1</td>\n",
       "      <td>10</td>\n",
       "    </tr>\n",
       "  </tbody>\n",
       "</table>\n",
       "</div>"
      ],
      "text/plain": [
       "                                                text  target  rating\n",
       "0  Bromwell High is a cartoon comedy. It ran at t...       1       9\n",
       "1  Homelessness (or Houselessness as George Carli...       1       8\n",
       "2  Brilliant over-acting by Lesley Ann Warren. Be...       1      10"
      ]
     },
     "execution_count": 12,
     "metadata": {},
     "output_type": "execute_result"
    }
   ],
   "source": [
    "train_df = pd.DataFrame(train_pos + train_neg, columns = ['text', 'target', 'rating'])\n",
    "train_df.head(3)"
   ]
  },
  {
   "cell_type": "code",
   "execution_count": 13,
   "id": "875166aa",
   "metadata": {},
   "outputs": [
    {
     "data": {
      "text/html": [
       "<div>\n",
       "<style scoped>\n",
       "    .dataframe tbody tr th:only-of-type {\n",
       "        vertical-align: middle;\n",
       "    }\n",
       "\n",
       "    .dataframe tbody tr th {\n",
       "        vertical-align: top;\n",
       "    }\n",
       "\n",
       "    .dataframe thead th {\n",
       "        text-align: right;\n",
       "    }\n",
       "</style>\n",
       "<table border=\"1\" class=\"dataframe\">\n",
       "  <thead>\n",
       "    <tr style=\"text-align: right;\">\n",
       "      <th></th>\n",
       "      <th>text</th>\n",
       "      <th>target</th>\n",
       "      <th>rating</th>\n",
       "    </tr>\n",
       "  </thead>\n",
       "  <tbody>\n",
       "    <tr>\n",
       "      <th>0</th>\n",
       "      <td>I went and saw this movie last night after bei...</td>\n",
       "      <td>1</td>\n",
       "      <td>10</td>\n",
       "    </tr>\n",
       "    <tr>\n",
       "      <th>1</th>\n",
       "      <td>Actor turned director Bill Paxton follows up h...</td>\n",
       "      <td>1</td>\n",
       "      <td>7</td>\n",
       "    </tr>\n",
       "    <tr>\n",
       "      <th>2</th>\n",
       "      <td>As a recreational golfer with some knowledge o...</td>\n",
       "      <td>1</td>\n",
       "      <td>9</td>\n",
       "    </tr>\n",
       "  </tbody>\n",
       "</table>\n",
       "</div>"
      ],
      "text/plain": [
       "                                                text  target  rating\n",
       "0  I went and saw this movie last night after bei...       1      10\n",
       "1  Actor turned director Bill Paxton follows up h...       1       7\n",
       "2  As a recreational golfer with some knowledge o...       1       9"
      ]
     },
     "execution_count": 13,
     "metadata": {},
     "output_type": "execute_result"
    }
   ],
   "source": [
    "test_df = pd.DataFrame(test_pos + test_neg, columns = ['text', 'target', 'rating'])\n",
    "test_df.head(3)"
   ]
  },
  {
   "cell_type": "markdown",
   "id": "40dd04be",
   "metadata": {},
   "source": [
    "# Токенизируем данные"
   ]
  },
  {
   "cell_type": "code",
   "execution_count": 14,
   "id": "cdc9b39a",
   "metadata": {},
   "outputs": [],
   "source": [
    "punct_symbols = '\"!@#$%^&*():;-+?_=,<>/'\n",
    "def tokenizer_text(sent):\n",
    "    tokens = [word.lower() for word in nltk.word_tokenize(sent)]\n",
    "    tokens = [word for word in tokens if word not in punct_symbols]\n",
    "    return tokens"
   ]
  },
  {
   "cell_type": "code",
   "execution_count": 15,
   "id": "e271e250",
   "metadata": {},
   "outputs": [],
   "source": [
    "train_df['tokenized'] = train_df['text'].apply(tokenizer_text)\n",
    "test_df['tokenized'] = test_df['text'].apply(tokenizer_text)"
   ]
  },
  {
   "cell_type": "code",
   "execution_count": 16,
   "id": "d0f02deb",
   "metadata": {},
   "outputs": [
    {
     "data": {
      "text/html": [
       "<div>\n",
       "<style scoped>\n",
       "    .dataframe tbody tr th:only-of-type {\n",
       "        vertical-align: middle;\n",
       "    }\n",
       "\n",
       "    .dataframe tbody tr th {\n",
       "        vertical-align: top;\n",
       "    }\n",
       "\n",
       "    .dataframe thead th {\n",
       "        text-align: right;\n",
       "    }\n",
       "</style>\n",
       "<table border=\"1\" class=\"dataframe\">\n",
       "  <thead>\n",
       "    <tr style=\"text-align: right;\">\n",
       "      <th></th>\n",
       "      <th>text</th>\n",
       "      <th>target</th>\n",
       "      <th>rating</th>\n",
       "      <th>tokenized</th>\n",
       "    </tr>\n",
       "  </thead>\n",
       "  <tbody>\n",
       "    <tr>\n",
       "      <th>6072</th>\n",
       "      <td>In this excellent Twentieth-Century Fox film-n...</td>\n",
       "      <td>1</td>\n",
       "      <td>9</td>\n",
       "      <td>[in, this, excellent, twentieth-century, fox, ...</td>\n",
       "    </tr>\n",
       "    <tr>\n",
       "      <th>927</th>\n",
       "      <td>I love this movie. It is one of those movies t...</td>\n",
       "      <td>1</td>\n",
       "      <td>10</td>\n",
       "      <td>[i, love, this, movie, ., it, is, one, of, tho...</td>\n",
       "    </tr>\n",
       "    <tr>\n",
       "      <th>16997</th>\n",
       "      <td>Whoever wrote the script for this movie does n...</td>\n",
       "      <td>0</td>\n",
       "      <td>1</td>\n",
       "      <td>[whoever, wrote, the, script, for, this, movie...</td>\n",
       "    </tr>\n",
       "    <tr>\n",
       "      <th>8010</th>\n",
       "      <td>It's great to see Jorja Fox in a role where sh...</td>\n",
       "      <td>1</td>\n",
       "      <td>8</td>\n",
       "      <td>[it, 's, great, to, see, jorja, fox, in, a, ro...</td>\n",
       "    </tr>\n",
       "    <tr>\n",
       "      <th>14589</th>\n",
       "      <td>This movie is nothing like \"Office Space\" exce...</td>\n",
       "      <td>0</td>\n",
       "      <td>1</td>\n",
       "      <td>[this, movie, is, nothing, like, ``, office, s...</td>\n",
       "    </tr>\n",
       "  </tbody>\n",
       "</table>\n",
       "</div>"
      ],
      "text/plain": [
       "                                                    text  target  rating  \\\n",
       "6072   In this excellent Twentieth-Century Fox film-n...       1       9   \n",
       "927    I love this movie. It is one of those movies t...       1      10   \n",
       "16997  Whoever wrote the script for this movie does n...       0       1   \n",
       "8010   It's great to see Jorja Fox in a role where sh...       1       8   \n",
       "14589  This movie is nothing like \"Office Space\" exce...       0       1   \n",
       "\n",
       "                                               tokenized  \n",
       "6072   [in, this, excellent, twentieth-century, fox, ...  \n",
       "927    [i, love, this, movie, ., it, is, one, of, tho...  \n",
       "16997  [whoever, wrote, the, script, for, this, movie...  \n",
       "8010   [it, 's, great, to, see, jorja, fox, in, a, ro...  \n",
       "14589  [this, movie, is, nothing, like, ``, office, s...  "
      ]
     },
     "execution_count": 16,
     "metadata": {},
     "output_type": "execute_result"
    }
   ],
   "source": [
    "train_df.sample(5)"
   ]
  },
  {
   "cell_type": "code",
   "execution_count": 17,
   "id": "971ddc33",
   "metadata": {},
   "outputs": [],
   "source": [
    "dictionary = Dictionary(train_df['tokenized'])\n",
    "dic = dictionary.token2id\n",
    "inv_dic = {v: k for k, v in dic.items()}"
   ]
  },
  {
   "cell_type": "code",
   "execution_count": 18,
   "id": "473ef334",
   "metadata": {},
   "outputs": [
    {
     "data": {
      "text/plain": [
       "111708"
      ]
     },
     "execution_count": 18,
     "metadata": {},
     "output_type": "execute_result"
    }
   ],
   "source": [
    "len(dictionary)"
   ]
  },
  {
   "cell_type": "markdown",
   "id": "3b5bfbeb",
   "metadata": {},
   "source": [
    "# Обертка на Word2Vec"
   ]
  },
  {
   "cell_type": "code",
   "execution_count": 19,
   "id": "96c1a192",
   "metadata": {},
   "outputs": [],
   "source": [
    "class Word2VecWrap:\n",
    "    def __init__(self, tokens, vec_size, window, min_count, epochs):\n",
    "        self.tokens = tokens\n",
    "        self.epochs = epochs\n",
    "        self.vec_size = vec_size\n",
    "        self.model_wv = Word2Vec(sentences=tokens,\n",
    "                                 vector_size=vec_size,\n",
    "                                 window=window,\n",
    "                                 min_count=min_count)\n",
    "\n",
    "    def train(self):\n",
    "        self.model_wv.train(self.tokens, total_examples=len(self.tokens), epochs=self.epochs)\n",
    "\n",
    "    def save(self, path):\n",
    "        self.model_wv.save(path)\n",
    "\n",
    "    def vocab(self):\n",
    "        return self.model_wv.wv"
   ]
  },
  {
   "cell_type": "markdown",
   "id": "1715df7a",
   "metadata": {},
   "source": [
    "# Обучаем и проверяем Word2Vec\n",
    "Получать векторное представление предложения будем с помощью w2v, где эмбеддинги всех слов в предложении просто будем усреднять"
   ]
  },
  {
   "cell_type": "code",
   "execution_count": null,
   "id": "f20a0ff4",
   "metadata": {},
   "outputs": [],
   "source": [
    "model_wv = Word2VecWrap(train_df['tokenized'], vec_size=64, window=5, min_count=3, epochs=15)\n",
    "model_wv.train()"
   ]
  },
  {
   "cell_type": "code",
   "execution_count": null,
   "id": "abf2f73f",
   "metadata": {},
   "outputs": [],
   "source": [
    "len(model_wv.vocab()) #если бы min_count = 1, то слов бы было 115к"
   ]
  },
  {
   "cell_type": "code",
   "execution_count": null,
   "id": "40f44ac3",
   "metadata": {},
   "outputs": [],
   "source": [
    "model_wv.save('trained_word2vec.model')"
   ]
  },
  {
   "cell_type": "code",
   "execution_count": 21,
   "id": "54cbcaed",
   "metadata": {},
   "outputs": [
    {
     "data": {
      "text/plain": [
       "64"
      ]
     },
     "execution_count": 21,
     "metadata": {},
     "output_type": "execute_result"
    }
   ],
   "source": [
    "model_wv_1 = Word2Vec.load('models/trained_word2vec.model')\n",
    "model_wv_1.vector_size"
   ]
  },
  {
   "cell_type": "code",
   "execution_count": 32,
   "id": "61e575af",
   "metadata": {},
   "outputs": [],
   "source": [
    "def sent2vec_train(question, model):\n",
    "    token_question = np.array(question)\n",
    "    question_array = np.zeros(model.vector_size)\n",
    "    count = 0\n",
    "    for word in token_question:\n",
    "        if model.wv.__contains__(str(word)):\n",
    "            question_array += (np.array(model.wv[str(word)]))\n",
    "            count += 1\n",
    "    if count == 0:\n",
    "        return question_array\n",
    "\n",
    "    return question_array / count"
   ]
  },
  {
   "cell_type": "code",
   "execution_count": 33,
   "id": "162a6102",
   "metadata": {},
   "outputs": [],
   "source": [
    "def cos_sim(a, b):\n",
    "    similarity = np.dot(a, b) / (np.linalg.norm(a) * np.linalg.norm(b))\n",
    "    return similarity"
   ]
  },
  {
   "cell_type": "code",
   "execution_count": 34,
   "id": "ba3163f8",
   "metadata": {},
   "outputs": [
    {
     "name": "stdout",
     "output_type": "stream",
     "text": [
      "Косинусное расстояние между словами мама и папа: 0.8611133662145762\n",
      "Косинусное расстояние между словами мама и огонь: 0.10754131355440777\n",
      "Косинусное расстояние между pos предложениями:  0.8804037443559081\n"
     ]
    }
   ],
   "source": [
    "#Как мы видим word2vec работает, ембеддинговое пространство он построил \n",
    "mom = sent2vec_train(['mom'], model_wv_1)\n",
    "dad = sent2vec_train(['dad'], model_wv_1)\n",
    "fire = sent2vec_train(['fire'], model_wv_1)\n",
    "print(\"Косинусное расстояние между словами мама и папа: \", cos_sim(mom, dad), '\\n',\n",
    "     \"Косинусное расстояние между словами мама и огонь: \", cos_sim(mom, fire), sep='')\n",
    "\n",
    "pos_1 = sent2vec_train(train_df['tokenized'][100], model_wv_1)\n",
    "pos_2 = sent2vec_train(train_df['tokenized'][200], model_wv_1)\n",
    "print(\"Косинусное расстояние между pos предложениями: \", cos_sim(pos_1, pos_2))"
   ]
  },
  {
   "cell_type": "markdown",
   "id": "2df01b8e",
   "metadata": {},
   "source": [
    "# Пишем обертку на CatBoost\n",
    "Будем подавать эмбеддинги предложений в катбуст для предсказания таргета\n",
    "\n",
    "Попробуем два разных подкхода к задаче: регрессия(предскажем оценку), классификация(предскажем класс, а оценку будет выставлять по вероятностным выходам модели)"
   ]
  },
  {
   "cell_type": "markdown",
   "id": "e81fcfbb",
   "metadata": {},
   "source": [
    "## Classification"
   ]
  },
  {
   "cell_type": "code",
   "execution_count": 35,
   "id": "e2b6746b",
   "metadata": {},
   "outputs": [],
   "source": [
    "class CatBoostClassifierWrap:\n",
    "    def __init__(self, n_estimators, max_depth, learning_rate, verbose=100):\n",
    "        self.model = CatBoostClassifier(n_estimators=n_estimators,\n",
    "                                   max_depth=max_depth,\n",
    "                                   learning_rate=learning_rate,\n",
    "                                   random_state=42,\n",
    "                                   verbose=200)\n",
    "\n",
    "    def fit(self, x_train, y_train):\n",
    "        self.model.fit(x_train, y_train)\n",
    "\n",
    "    def save(self, path):\n",
    "        pickle.dump(self.model, open(path, \"wb\"))\n",
    "\n",
    "    def predict(self, x):\n",
    "        return self.model.predict(x)\n",
    "\n",
    "    def predict_proba(self, x):\n",
    "        return self.model.predict_proba(x)"
   ]
  },
  {
   "cell_type": "code",
   "execution_count": 40,
   "id": "593d21c9",
   "metadata": {},
   "outputs": [],
   "source": [
    "def data_to_model(df, target):\n",
    "    X, Y = [], []\n",
    "    for sentence in range(len(df[target])):\n",
    "        X.append(sent2vec_train(df['tokenized'][sentence], model_wv_1))\n",
    "        Y.append(df[target][sentence])\n",
    "    return np.array(X), np.array(Y)"
   ]
  },
  {
   "cell_type": "code",
   "execution_count": 41,
   "id": "e64c3308",
   "metadata": {},
   "outputs": [],
   "source": [
    "assert len(sent2vec_train(train_df['tokenized'][0], model_wv_1)) == model_wv_1.vector_size"
   ]
  },
  {
   "cell_type": "code",
   "execution_count": 42,
   "id": "c1b23b6d",
   "metadata": {},
   "outputs": [],
   "source": [
    "X_train_clf, Y_train_clf = data_to_model(train_df, 'target')\n",
    "X_test_clf, Y_test_clf = data_to_model(test_df, 'target')"
   ]
  },
  {
   "cell_type": "code",
   "execution_count": null,
   "id": "98fb0460",
   "metadata": {},
   "outputs": [],
   "source": [
    "model_cl = CatBoostClassifierWrap(n_estimators=1000, max_depth=6, learning_rate=0.1)\n",
    "model_cl.fit(X_train_clf, Y_train_clf)"
   ]
  },
  {
   "cell_type": "code",
   "execution_count": 190,
   "id": "c4a8cda0",
   "metadata": {},
   "outputs": [],
   "source": [
    "model_cl.save('cb_cl.model')"
   ]
  },
  {
   "cell_type": "code",
   "execution_count": 191,
   "id": "10aca68e",
   "metadata": {},
   "outputs": [],
   "source": [
    "model_cl_1 = pickle.load(open('cb_cl.model', \"rb\"))"
   ]
  },
  {
   "cell_type": "markdown",
   "id": "9370d743",
   "metadata": {},
   "source": [
    "### Оценка результатов\n",
    "Посмотрим на accuracy, recall, precision на трейне и на тесте"
   ]
  },
  {
   "cell_type": "code",
   "execution_count": 147,
   "id": "be7c00c1",
   "metadata": {},
   "outputs": [
    {
     "name": "stdout",
     "output_type": "stream",
     "text": [
      "Accuracy: 0.9762\n",
      "Precision: 0.9788\n",
      "Recall: 0.9734\n"
     ]
    }
   ],
   "source": [
    "train_predicts = model_cl.predict(X_train_clf)\n",
    "print('Accuracy: ', round((train_predicts == Y_train_clf).sum() / len(Y_train_clf), 4), '\\n',\n",
    "      'Precision: ', round(sklearn.metrics.precision_score(Y_train_clf, train_predicts), 4), '\\n',\n",
    "      'Recall: ', round(sklearn.metrics.recall_score(Y_train_clf, train_predicts), 4), sep='')"
   ]
  },
  {
   "cell_type": "code",
   "execution_count": 148,
   "id": "8765f0a4",
   "metadata": {},
   "outputs": [
    {
     "name": "stdout",
     "output_type": "stream",
     "text": [
      "Accuracy: 0.8189\n",
      "Precision: 0.8249\n",
      "Recall: 0.8097\n"
     ]
    }
   ],
   "source": [
    "test_predicts = model_cl.predict(X_test_clf)\n",
    "print('Accuracy: ', round((test_predicts == Y_test_clf).sum() / len(Y_test_clf), 4), '\\n',\n",
    "      'Precision: ', round(sklearn.metrics.precision_score(Y_test_clf, test_predicts), 4), '\\n',\n",
    "      'Recall: ', round(sklearn.metrics.recall_score(Y_test_clf, test_predicts), 4), sep='')"
   ]
  },
  {
   "cell_type": "markdown",
   "id": "6853346c",
   "metadata": {},
   "source": [
    "## Regressor"
   ]
  },
  {
   "cell_type": "code",
   "execution_count": 45,
   "id": "42fbd60b",
   "metadata": {},
   "outputs": [],
   "source": [
    "class CatBoostRegressorWrap:\n",
    "    def __init__(self, n_estimators, max_depth, learning_rate, loss_function, verbose=100):\n",
    "        self.model = CatBoostRegressor(n_estimators=n_estimators,\n",
    "                                   max_depth=max_depth,\n",
    "                                   learning_rate=learning_rate,\n",
    "                                   random_state=42,\n",
    "                                   loss_function=loss_function,\n",
    "                                   verbose=200)\n",
    "\n",
    "    def fit(self, x_train, y_train):\n",
    "        self.model.fit(x_train, y_train)\n",
    "\n",
    "    def save(self, path):\n",
    "        pickle.dump(self.model, open(path, \"wb\"))\n",
    "\n",
    "    def predict(self, x):\n",
    "        return self.model.predict(x)"
   ]
  },
  {
   "cell_type": "code",
   "execution_count": 44,
   "id": "17b78a29",
   "metadata": {},
   "outputs": [],
   "source": [
    "X_train_reg, Y_train_reg = data_to_model(train_df, 'rating')\n",
    "X_test_reg, Y_test_reg = data_to_model(test_df, 'rating')"
   ]
  },
  {
   "cell_type": "code",
   "execution_count": 46,
   "id": "fd2b8499",
   "metadata": {},
   "outputs": [
    {
     "name": "stdout",
     "output_type": "stream",
     "text": [
      "0:\tlearn: 3.1609149\ttotal: 87.3ms\tremaining: 1m 27s\n",
      "200:\tlearn: 1.8273823\ttotal: 3.09s\tremaining: 12.3s\n",
      "400:\tlearn: 1.6759578\ttotal: 6.42s\tremaining: 9.59s\n",
      "600:\tlearn: 1.5890887\ttotal: 9.56s\tremaining: 6.35s\n",
      "800:\tlearn: 1.5275910\ttotal: 12.6s\tremaining: 3.13s\n",
      "999:\tlearn: 1.4835264\ttotal: 15.6s\tremaining: 0us\n"
     ]
    }
   ],
   "source": [
    "model_reg = CatBoostRegressorWrap(n_estimators=1000, max_depth=6, learning_rate=0.1, loss_function='MAE')\n",
    "model_reg.fit(X_train_reg, Y_train_reg)"
   ]
  },
  {
   "cell_type": "code",
   "execution_count": 268,
   "id": "5a0a21b6",
   "metadata": {},
   "outputs": [],
   "source": [
    "model_reg.save('cb_reg.model')"
   ]
  },
  {
   "cell_type": "code",
   "execution_count": 49,
   "id": "8fd8c210",
   "metadata": {},
   "outputs": [],
   "source": [
    "model_reg_1 = pickle.load(open('models/cb_reg.model', \"rb\"))"
   ]
  },
  {
   "cell_type": "code",
   "execution_count": 50,
   "id": "0f27ae29",
   "metadata": {},
   "outputs": [
    {
     "data": {
      "text/plain": [
       "array([5.29482991, 4.50364583, 6.48478552, ..., 3.54330595, 4.00259353,\n",
       "       0.78868154])"
      ]
     },
     "execution_count": 50,
     "metadata": {},
     "output_type": "execute_result"
    }
   ],
   "source": [
    "model_reg_1.predict(X_train_reg)"
   ]
  },
  {
   "cell_type": "markdown",
   "id": "f68c5c5a",
   "metadata": {},
   "source": [
    "### Посмотрим на MAE и распределение таргетов"
   ]
  },
  {
   "cell_type": "code",
   "execution_count": 51,
   "id": "b91ca81a",
   "metadata": {},
   "outputs": [
    {
     "data": {
      "text/plain": [
       "0.05952989162641271"
      ]
     },
     "execution_count": 51,
     "metadata": {},
     "output_type": "execute_result"
    }
   ],
   "source": [
    "(Y_train_reg - model_reg_1.predict(X_train_reg)).mean()"
   ]
  },
  {
   "cell_type": "code",
   "execution_count": 52,
   "id": "c52a4778",
   "metadata": {},
   "outputs": [
    {
     "data": {
      "text/plain": [
       "0.15731421005743404"
      ]
     },
     "execution_count": 52,
     "metadata": {},
     "output_type": "execute_result"
    }
   ],
   "source": [
    "(Y_test_reg - model_reg_1.predict(X_test_reg)).mean()"
   ]
  },
  {
   "cell_type": "markdown",
   "id": "ba10f8e7",
   "metadata": {},
   "source": [
    "Ошибка на трейне 0.5 балла, на тесте 1.5 балла - довольно неплохой результат, выглядит ровно так же, как и человеческая погрешность в оценке чужих комментариев"
   ]
  },
  {
   "cell_type": "code",
   "execution_count": 53,
   "id": "cbfe9c62",
   "metadata": {},
   "outputs": [],
   "source": [
    "sns.set(rc={'figure.figsize':(5, 3)})"
   ]
  },
  {
   "cell_type": "markdown",
   "id": "380d5dd8",
   "metadata": {},
   "source": [
    "Распределение на train"
   ]
  },
  {
   "cell_type": "code",
   "execution_count": 54,
   "id": "78a38f20",
   "metadata": {},
   "outputs": [
    {
     "data": {
      "text/plain": [
       "<seaborn.axisgrid.FacetGrid at 0x28be3527fd0>"
      ]
     },
     "execution_count": 54,
     "metadata": {},
     "output_type": "execute_result"
    },
    {
     "data": {
      "image/png": "[encoded data removed]",
      "text/plain": [
       "<Figure size 500x500 with 1 Axes>"
      ]
     },
     "metadata": {},
     "output_type": "display_data"
    }
   ],
   "source": [
    "p = sns.displot(train_df, x ='rating', discrete=True)\n",
    "p.set(xticks=np.arange(1,11))"
   ]
  },
  {
   "cell_type": "markdown",
   "id": "fbf0c1d9",
   "metadata": {},
   "source": [
    "Распределение на test"
   ]
  },
  {
   "cell_type": "code",
   "execution_count": 55,
   "id": "c4d6b1f4",
   "metadata": {},
   "outputs": [
    {
     "data": {
      "text/plain": [
       "<seaborn.axisgrid.FacetGrid at 0x28be35276a0>"
      ]
     },
     "execution_count": 55,
     "metadata": {},
     "output_type": "execute_result"
    },
    {
     "data": {
      "image/png": "[encoded data removed]",
      "text/plain": [
       "<Figure size 500x500 with 1 Axes>"
      ]
     },
     "metadata": {},
     "output_type": "display_data"
    }
   ],
   "source": [
    "p = sns.displot(test_df, x ='rating', discrete=True)\n",
    "p.set(xticks=np.arange(1,11))"
   ]
  },
  {
   "cell_type": "markdown",
   "id": "7def4f2a",
   "metadata": {},
   "source": [
    "Распределение предсказаний"
   ]
  },
  {
   "cell_type": "code",
   "execution_count": 56,
   "id": "a3912e55",
   "metadata": {},
   "outputs": [
    {
     "data": {
      "text/plain": [
       "<seaborn.axisgrid.FacetGrid at 0x28be1687df0>"
      ]
     },
     "execution_count": 56,
     "metadata": {},
     "output_type": "execute_result"
    },
    {
     "data": {
      "image/png": "[encoded data removed]",
      "text/plain": [
       "<Figure size 500x500 with 1 Axes>"
      ]
     },
     "metadata": {},
     "output_type": "display_data"
    }
   ],
   "source": [
    "p = sns.displot(model_reg.predict(X_test_reg), discrete=True)\n",
    "p.set(xticks=np.arange(-1,12))"
   ]
  },
  {
   "cell_type": "markdown",
   "id": "95bd7b78",
   "metadata": {},
   "source": [
    "Распределение предсказаний не очень похоже на реальное распределение. Видно, что предсказания кучкуются в интервале 4-6, а также есть выбросы за 1 и 10, их будем считать как оценку 1 и 10 соответственно. Попробуем сделать небольшие преобразования над нашими данными, чтобы оценка комментария была менее \"нейтральной\""
   ]
  },
  {
   "cell_type": "code",
   "execution_count": 71,
   "id": "091f8ced",
   "metadata": {},
   "outputs": [],
   "source": [
    "def remake(x):\n",
    "    flag = -1 if x < 5 else 1\n",
    "    treshold = 5 if x < 5 else 11\n",
    "    x += flag * (treshold - x) * 0.5\n",
    "    if x < 1:\n",
    "        return 1\n",
    "    if x > 10:\n",
    "        return 10\n",
    "    return x\n",
    "\n",
    "remaker = np.vectorize(remake)"
   ]
  },
  {
   "cell_type": "code",
   "execution_count": 72,
   "id": "9039b891",
   "metadata": {},
   "outputs": [
    {
     "data": {
      "text/plain": [
       "<seaborn.axisgrid.FacetGrid at 0x28be77c76a0>"
      ]
     },
     "execution_count": 72,
     "metadata": {},
     "output_type": "execute_result"
    },
    {
     "data": {
      "image/png": "[encoded data removed]",
      "text/plain": [
       "<Figure size 500x500 with 1 Axes>"
      ]
     },
     "metadata": {},
     "output_type": "display_data"
    }
   ],
   "source": [
    "a = remaker(model_reg.predict(X_test_reg))\n",
    "p = sns.displot(a, discrete=True)\n",
    "p.set(xticks=np.arange(1,11))"
   ]
  },
  {
   "cell_type": "code",
   "execution_count": 70,
   "id": "f513ed65",
   "metadata": {},
   "outputs": [
    {
     "data": {
      "text/plain": [
       "0.6943745771139387"
      ]
     },
     "execution_count": 70,
     "metadata": {},
     "output_type": "execute_result"
    }
   ],
   "source": [
    "abs((Y_test_reg - a).mean())"
   ]
  },
  {
   "cell_type": "markdown",
   "id": "45fc23d9",
   "metadata": {},
   "source": [
    "Так распределение выглядит более понятным, а погрешность таких выводов 0.6 - чуть хуже чем на трейне, теперь модель намного точнее может классифицировать классы на положительные и отрицательные, просто выставим порог в виде 6 баллов!\n",
    "\n",
    "Такие эвристические преобразования помогли нам примерно соотнести распределения выходов модели и таргетов. Т.к. оценка по шкале от 1 до 10 самого комментария - дело очень субъективное (даже человек не может оценить чужой комментарий по 10-ти бальной шкале точно, скорее он назовет интервал с погрешностью в +-0.5 балла, например: 7-8, кстати, регрессионная модель предсказывает примерно с такой же погрешностью), то опираться скорее будем на positive/negative оценку, а 10-бальная шкала будет уже второстепенной задачей"
   ]
  },
  {
   "cell_type": "markdown",
   "id": "b0c60109",
   "metadata": {},
   "source": [
    "# Выводы, идеи, предложения\n",
    "### Это ноутбук показывает ML/DL часть, в train.py/model.py будет меньше кода, т.к. тут присутствует  анализ и лишние блоки кода для проверки работоспособности кода и демонстрации результатов. По итогу, опираться будем на регрессионную модель, т.к. она показала более стабильный результат.\n",
    "### Также, без этих эвристических преобразований понятно, что модель переобучилась, с этим можно бороться разными способами, один из самых главных - тюнинг параметров, причем не только самого бустинга, но и w2v, размерности векторов(ее можно сжать с помощью SVD-разложения) и прочих параметров.\n",
    "### Также было неколько идей: взять трансформер с HF, взять tf-idf или doc2vec(т.к. комментарии достаточно длинные), можно было попробовать RNN и предсказывать таргет сразу одной моделью, а не как в моем решении (сначала получаем ембеддинговое представление word2vec-а, а потом передаем в catboost).\n",
    "### Вариантов очень много, но все пробовать в данном случае смысла не имеет, это тестовое задание и одно решение из множества возможных :)"
   ]
  }
 ],
 "metadata": {
  "kernelspec": {
   "display_name": "Python 3 (ipykernel)",
   "language": "python",
   "name": "python3"
  },
  "language_info": {
   "codemirror_mode": {
    "name": "ipython",
    "version": 3
   },
   "file_extension": ".py",
   "mimetype": "text/x-python",
   "name": "python",
   "nbconvert_exporter": "python",
   "pygments_lexer": "ipython3",
   "version": "3.10.4"
  }
 },
 "nbformat": 4,
 "nbformat_minor": 5
}
